{
 "cells": [
  {
   "cell_type": "markdown",
   "id": "0b8bbd96-c629-428d-9e2b-b45f531eefc7",
   "metadata": {},
   "source": [
    "# My Jupyter Notebook"
   ]
  },
  {
   "cell_type": "markdown",
   "id": "e5c34426-de70-4ee1-9834-0bcc09a2ba93",
   "metadata": {},
   "source": [
    "This is the introduction of my first notebook"
   ]
  },
  {
   "cell_type": "markdown",
   "id": "aefcbe3d-6e67-47a1-82ee-dc99312891b9",
   "metadata": {},
   "source": [
    "1. Python\n",
    "2. R\n",
    "3. Julia"
   ]
  },
  {
   "cell_type": "markdown",
   "id": "14e205cd-1533-4b92-a552-b17a355597b7",
   "metadata": {},
   "source": [
    "1. Tensorflow\n",
    "2. Pytorch\n",
    "3. Pandas"
   ]
  },
  {
   "cell_type": "markdown",
   "id": "54585a10-8e8c-419b-964a-e5b4656f8103",
   "metadata": {},
   "source": [
    "TABLE"
   ]
  },
  {
   "cell_type": "code",
   "execution_count": 2,
   "id": "1c021f98-03e9-4e92-beb9-f406bc6cbd22",
   "metadata": {},
   "outputs": [
    {
     "data": {
      "text/plain": [
       "-1"
      ]
     },
     "execution_count": 2,
     "metadata": {},
     "output_type": "execute_result"
    }
   ],
   "source": [
    "1-2"
   ]
  },
  {
   "cell_type": "code",
   "execution_count": 3,
   "id": "6cfe7a43-41c5-4a67-9667-6b522f9f2424",
   "metadata": {},
   "outputs": [
    {
     "data": {
      "text/plain": [
       "7"
      ]
     },
     "execution_count": 3,
     "metadata": {},
     "output_type": "execute_result"
    }
   ],
   "source": [
    "1+2*3"
   ]
  },
  {
   "cell_type": "code",
   "execution_count": 4,
   "id": "96b0c949-2aa4-4ad5-99e9-9487b7a37802",
   "metadata": {},
   "outputs": [],
   "source": [
    "def converti(x):\n",
    "    hour=x/60\n",
    "    return hour"
   ]
  },
  {
   "cell_type": "markdown",
   "id": "e2706df6-b50d-4e67-a25e-4b7803e4b2e2",
   "metadata": {},
   "source": [
    "Objectives"
   ]
  },
  {
   "cell_type": "markdown",
   "id": "f5f1bcb9-5397-4e01-9d0a-1133a2470d84",
   "metadata": {},
   "source": [
    "### Author's name:\n",
    "#### Donatella Genovese"
   ]
  },
  {
   "cell_type": "code",
   "execution_count": null,
   "id": "91f2f8a9-11fc-4b50-887a-4c4650c1c7c3",
   "metadata": {},
   "outputs": [],
   "source": []
  }
 ],
 "metadata": {
  "kernelspec": {
   "display_name": "Python",
   "language": "python",
   "name": "conda-env-python-py"
  },
  "language_info": {
   "codemirror_mode": {
    "name": "ipython",
    "version": 3
   },
   "file_extension": ".py",
   "mimetype": "text/x-python",
   "name": "python",
   "nbconvert_exporter": "python",
   "pygments_lexer": "ipython3",
   "version": "3.7.12"
  }
 },
 "nbformat": 4,
 "nbformat_minor": 5
}
